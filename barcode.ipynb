{
 "cells": [
  {
   "cell_type": "code",
   "execution_count": 1,
   "metadata": {},
   "outputs": [
    {
     "name": "stdout",
     "output_type": "stream",
     "text": [
      "Códigos de barras gerados e adicionados ao arquivo ZIP com sucesso.\n",
      "Arquivo ZIP salvo como: codigos_de_barras.zip\n"
     ]
    }
   ],
   "source": [
    "# Certifique-se de que as bibliotecas estão instaladas:\n",
    "# !pip install python-barcode Pillow\n",
    "\n",
    "import barcode\n",
    "from barcode.writer import ImageWriter\n",
    "import os\n",
    "from zipfile import ZipFile\n",
    "\n",
    "# O bloco try/except para 'google.colab' não é necessário fora do Colab\n",
    "\n",
    "# Cria um diretório temporário para salvar os códigos de barras\n",
    "temp_dir = \"temp_barcode_images\"\n",
    "os.makedirs(temp_dir, exist_ok=True)\n",
    "\n",
    "# Sua lista de produtos foi mantida\n",
    "produtos = [\n",
    "    (2173, \"Kit Abraçadeira de Nylon Branca 2,5 x 100mm c/ 20un\", \"7898573569863\"),\n",
    "    (2174, \"Kit Abraçadeira de Nylon Branca 2,5 x 200mm c/ 20un\", \"7898573569870\"),\n",
    "    (2175, \"Kit Abraçadeira de Nylon Branca 3,6 x 140mm c/ 20un\", \"7898573569887\"),\n",
    "    (2176, \"Kit Abraçadeira de Nylon Branca 3,6 x 300mm c/ 20un\", \"7898573569894\"),\n",
    "    (2177, \"Kit Abraçadeira de Nylon Branca 4,8 x 200mm c/ 20un\", \"7898573569900\"),\n",
    "    (2178, \"Kit Abraçadeira de Nylon Branca 4,8 x 300mm c/ 20un\", \"7898573569917\"),\n",
    "    (2179, \"Kit Abraçadeira de Nylon Branca 2,5 x 100 c/ 100un\", \"7898573569924\"),\n",
    "    (2180, \"Kit Abraçadeira de Nylon Branca 2,5 x 200 c/ 100un\", \"7898573569931\"),\n",
    "    (2181, \"Kit Abraçadeira de Nylon Branca 3,6 x 140 c/ 100un\", \"7898573569948\"),\n",
    "    (2182, \"Kit Abraçadeira de Nylon Branca 3,6 x 300 c/ 100un\", \"7898573569955\"),\n",
    "    (2183, \"Kit Abraçadeira de Nylon Branca 4,8 x 200 c/ 100un\", \"7898573569962\"),\n",
    "    (2184, \"Kit Abraçadeira de Nylon Branca 4,8 x 300 c/ 100un\", \"7898573569979\"),\n",
    "    (2185, \"Kit Abraçadeira de Nylon Preta 2,5 x 100mm c/ 20un\", \"7898573569986\"),\n",
    "    (2186, \"Kit Abraçadeira de Nylclearon Preta 2,5 x 200mm c/ 20un\", \"7898573569993\"),\n",
    "    (2187, \"Kit Abraçadeira de Nylon Preta 3,6 x 140mm c/ 20un\", \"7898573561621\"),\n",
    "    (2188, \"Kit Abraçadeira de Nylon Preta 3,6 x 300mm c/ 20un\", \"7898573562055\"),\n",
    "    (2189, \"Kit Abraçadeira de Nylon Preta 4,8 x 200mm c/ 20un\", \"7898573562253\"),\n",
    "    (2190, \"Kit Abraçadeira de Nylon Preta 4,8 x 300mm c/ 20un\", \"7898573561423\"),\n",
    "    (2191, \"Kit Abraçadeira de Nylon Preta 2,5 x 100 c/ 100un\", \"7898573560990\"),\n",
    "    (2192, \"Kit Abraçadeira de Nylon Preta 2,5 x 200 c/ 100un\", \"7898573560761\"),\n",
    "    (2193, \"Kit Abraçadeira de Nylon Preta 3,6 x 140 c/ 100un\", \"7898573569542\"),\n",
    "    (2194, \"Kit Abraçadeira de Nylon Preta 3,6 x 300 c/ 100un\", \"7898573569528\"),\n",
    "    (2195, \"Kit Abraçadeira de Nylon Preta 4,8 x 200 c/ 100un\", \"7898573560136\"),\n",
    "    (2196, \"Kit Abraçadeira de Nylon Preta 4,8 x 300 c/ 100un\", \"7898573561102\"),\n",
    "]\n",
    "\n",
    "zip_filename = \"codigos_de_barras.zip\"\n",
    "\n",
    "with ZipFile(zip_filename, 'w') as zipf:\n",
    "    for produto in produtos:\n",
    "        codigo, descricao, numero_barra = produto\n",
    "        nome_arquivo_sanitizado = descricao.replace(' ', '_').replace(',', '').replace('/', '_') + \".png\"\n",
    "        nome_arquivo = f\"{codigo}_{nome_arquivo_sanitizado}\"\n",
    "        caminho_completo = os.path.join(temp_dir, nome_arquivo)\n",
    "\n",
    "        # Aqui, corrigimos a chamada para gerar o código de barras\n",
    "        codigo_de_barras = barcode.get_barcode_class('code128')(numero_barra, writer=ImageWriter())\n",
    "        codigo_de_barras.save(caminho_completo)\n",
    "        \n",
    "        zipf.write(caminho_completo, arcname=nome_arquivo)\n",
    "        os.remove(caminho_completo)\n",
    "\n",
    "# Não é necessário limpar o diretório temporário com os.rmdir aqui, pois os arquivos são excluídos após serem adicionados ao zip\n",
    "\n",
    "print(\"Códigos de barras gerados e adicionados ao arquivo ZIP com sucesso.\")\n",
    "\n",
    "# Este bloco é específico para o Colab e não necessário fora dele\n",
    "# if colab_environment:\n",
    "#    files.download(zip_filename)\n",
    "# else:\n",
    "print(f\"Arquivo ZIP salvo como: {zip_filename}\")\n"
   ]
  }
 ],
 "metadata": {
  "kernelspec": {
   "display_name": "Python 3.11.1 64-bit",
   "language": "python",
   "name": "python3"
  },
  "language_info": {
   "codemirror_mode": {
    "name": "ipython",
    "version": 3
   },
   "file_extension": ".py",
   "mimetype": "text/x-python",
   "name": "python",
   "nbconvert_exporter": "python",
   "pygments_lexer": "ipython3",
   "version": "3.11.1"
  },
  "vscode": {
   "interpreter": {
    "hash": "aee8b7b246df8f9039afb4144a1f6fd8d2ca17a180786b69acc140d282b71a49"
   }
  }
 },
 "nbformat": 4,
 "nbformat_minor": 2
}
