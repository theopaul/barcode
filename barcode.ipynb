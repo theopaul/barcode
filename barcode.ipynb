{
 "cells": [
  {
   "cell_type": "code",
   "execution_count": 47,
   "metadata": {},
   "outputs": [
    {
     "name": "stdout",
     "output_type": "stream",
     "text": [
      "zsh:1: no matches found: python-barcode[pil]\n"
     ]
    }
   ],
   "source": [
    "!pip install python-barcode[pil]\n"
   ]
  },
  {
   "cell_type": "code",
   "execution_count": 48,
   "metadata": {},
   "outputs": [
    {
     "name": "stdout",
     "output_type": "stream",
     "text": [
      "All barcode images have been generated in the specified directory.\n"
     ]
    }
   ],
   "source": [
    "\"\"\"\n",
    "Barcode Generator for Products\n",
    "\n",
    "This script generates EAN-13 barcode images for a predefined list of products\n",
    "and saves them in a specified directory. Each barcode image is named according\n",
    "to the product's code, description, and barcode number for easy identification.\n",
    "\n",
    "Requirements:\n",
    "- python-barcode library with PIL support. Install with:\n",
    "  `pip install python-barcode[pil]`\n",
    "\"\"\"\n",
    "\n",
    "# Import necessary modules\n",
    "from barcode import generate\n",
    "import os\n",
    "\n",
    "# Define the directory to save barcode images\n",
    "notebook_directory = '/Users/theosantana/Documents/Python/'\n",
    "\n",
    "# List of products (code, description, barcode number)\n",
    "# Ensure the barcode numbers are of the correct length for EAN-13 standard\n",
    "products = [\n",
    "    (2173, \"Kit Abraçadeira de Nylon Branca 2,5 x 100mm c/ 20un\", \"7898573569863\"),\n",
    "    (2174, \"Kit Abraçadeira de Nylon Branca 2,5 x 200mm c/ 20un\", \"7898573569870\"),\n",
    "    # Add more products as needed...\n",
    "    (2196, \"Kit Abraçadeira de Nylon Preta 4,8 x 300mm c/ 100un\", \"7898573561102\"),\n",
    "]\n",
    "\n",
    "# Generate and save barcode images for each product\n",
    "for product in products:\n",
    "    code, description, barcode_number = product\n",
    "    sanitized_filename = f\"{code}_{description.replace(' ', '_').replace(',', '').replace('/', '_')}_{barcode_number}.png\"\n",
    "    full_path = os.path.join(notebook_directory, sanitized_filename)\n",
    "\n",
    "    # Generate the barcode as a PNG image using the 'generate' function\n",
    "    generate('ean13', barcode_number, output=full_path)\n",
    "\n",
    "print(\"All barcode images have been generated in the specified directory.\")\n"
   ]
  }
 ],
 "metadata": {
  "kernelspec": {
   "display_name": "Python 3.11.1 64-bit",
   "language": "python",
   "name": "python3"
  },
  "language_info": {
   "codemirror_mode": {
    "name": "ipython",
    "version": 3
   },
   "file_extension": ".py",
   "mimetype": "text/x-python",
   "name": "python",
   "nbconvert_exporter": "python",
   "pygments_lexer": "ipython3",
   "version": "3.11.1"
  },
  "vscode": {
   "interpreter": {
    "hash": "aee8b7b246df8f9039afb4144a1f6fd8d2ca17a180786b69acc140d282b71a49"
   }
  }
 },
 "nbformat": 4,
 "nbformat_minor": 2
}
